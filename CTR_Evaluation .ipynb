{
 "cells": [
  {
   "cell_type": "code",
   "execution_count": 69,
   "id": "30b2597a",
   "metadata": {},
   "outputs": [],
   "source": [
    "import pandas as pd\n",
    "import numpy as np"
   ]
  },
  {
   "cell_type": "code",
   "execution_count": 70,
   "id": "02abda42",
   "metadata": {},
   "outputs": [],
   "source": [
    "data = pd.read_csv('track_geo_hourly.csv')"
   ]
  },
  {
   "cell_type": "code",
   "execution_count": 6,
   "id": "3324e543",
   "metadata": {
    "collapsed": true
   },
   "outputs": [
    {
     "name": "stdout",
     "output_type": "stream",
     "text": [
      "<class 'pandas.core.frame.DataFrame'>\n",
      "RangeIndex: 244125 entries, 0 to 244124\n",
      "Data columns (total 25 columns):\n",
      " #   Column          Non-Null Count   Dtype  \n",
      "---  ------          --------------   -----  \n",
      " 0   id              244125 non-null  int64  \n",
      " 1   count           244125 non-null  int64  \n",
      " 2   line_item_id    244124 non-null  object \n",
      " 3   date            244125 non-null  object \n",
      " 4   ad_type         244124 non-null  object \n",
      " 5   device_os       243433 non-null  object \n",
      " 6   device_type     237008 non-null  float64\n",
      " 7   feed            54087 non-null   float64\n",
      " 8   pincode         243976 non-null  Int64  \n",
      " 9   impression      244125 non-null  int64  \n",
      " 10  start           244125 non-null  int64  \n",
      " 11  first_quartile  244125 non-null  int64  \n",
      " 12  mid_point       244125 non-null  int64  \n",
      " 13  third_quartile  244125 non-null  int64  \n",
      " 14  complete        244125 non-null  int64  \n",
      " 15  creative_view   244125 non-null  int64  \n",
      " 16  click           244125 non-null  int64  \n",
      " 17  created_at      244125 non-null  object \n",
      " 18  start_datetime  244125 non-null  object \n",
      " 19  end_datetime    244125 non-null  object \n",
      " 20  server_name     244125 non-null  object \n",
      " 21  ssp             244124 non-null  object \n",
      " 22  app_id          244124 non-null  object \n",
      " 23  country         243944 non-null  object \n",
      " 24  deal_id         243944 non-null  float64\n",
      "dtypes: Int64(1), float64(3), int64(10), object(11)\n",
      "memory usage: 46.8+ MB\n"
     ]
    }
   ],
   "source": [
    "data.info()"
   ]
  },
  {
   "cell_type": "code",
   "execution_count": 97,
   "id": "922d4f25",
   "metadata": {
    "collapsed": true
   },
   "outputs": [
    {
     "name": "stdout",
     "output_type": "stream",
     "text": [
      "              line_item_id  click  impression       CTR\n",
      "1   J8StPzRXXtsyVfqQ3fVCM9    355       15118  0.023482\n",
      "2   ViTEXZojgfeZfy4jgepPC5     99        5502  0.017993\n",
      "3   TPd7vqyKcGikPjgvgRa9es  14770      874696  0.016886\n",
      "4   R2yzV2SifRo3fdL3TeZRSx   1702      101917  0.016700\n",
      "5   GjqbAfapKQuZqrvQQHaRNG   1545      100717  0.015340\n",
      "6   4QvZGDp9sYb8viiQWCsFvN   1465       97366  0.015046\n",
      "7   T2hEGNNfSraN6fsGbnxX6p    291       22638  0.012854\n",
      "8   GvjBJA25A7qfpNTDHZgup9    277       24700  0.011215\n",
      "9   SG4iV8g3WK2xJFckbNgV4b    610       63136  0.009662\n",
      "10  j3GRhN7WJKpYjyXfSmYLHn    564       60895  0.009262\n"
     ]
    }
   ],
   "source": [
    "#To find the CTR based on 'line_item_id'\n",
    "ctr_data1 = data.groupby('line_item_id').agg({'click': 'sum', 'impression': 'sum'}).reset_index()\n",
    "ctr_data1['CTR'] = ctr_data1['click'] / ctr_data1['impression']\n",
    "filtered_ctr_data1 = ctr_data1[~ctr_data1['CTR'].isna() & np.isfinite(ctr_data1['CTR']) & (ctr_data1['CTR'] > 0)]\n",
    "top_10_rows1 = filtered_ctr_data1.nlargest(10, 'CTR')\n",
    "top_10_rows1.index = np.arange(1, len(top_10_rows1)+1)\n",
    "print(top_10_rows1[['line_item_id','click', 'impression', 'CTR']])"
   ]
  },
  {
   "cell_type": "code",
   "execution_count": 6,
   "id": "55bcd224",
   "metadata": {},
   "outputs": [],
   "source": [
    "#To display maximum 104 rows\n",
    "pd.set_option('display.max_rows',104)"
   ]
  },
  {
   "cell_type": "code",
   "execution_count": 98,
   "id": "bbe0a68e",
   "metadata": {
    "collapsed": true
   },
   "outputs": [
    {
     "name": "stdout",
     "output_type": "stream",
     "text": [
      "   ad_type       CTR\n",
      "0    AUDIO  0.009787\n",
      "1  DISPLAY  0.004055\n",
      "2    VIDEO  0.014572\n"
     ]
    }
   ],
   "source": [
    "#To find the CTR based on 'ad_type'\n",
    "ctr_data2 = data.groupby('ad_type').agg({'click': 'sum', 'impression': 'sum'}).reset_index()\n",
    "ctr_data2['CTR'] = ctr_data2['click'] / ctr_data2['impression']\n",
    "print(ctr_data2[['ad_type', 'CTR']])"
   ]
  },
  {
   "cell_type": "code",
   "execution_count": 126,
   "id": "1f0d85b8",
   "metadata": {
    "collapsed": true
   },
   "outputs": [
    {
     "name": "stdout",
     "output_type": "stream",
     "text": [
      "    device_os  click  impression       CTR\n",
      "1     ANDROID  29998     2566734  0.011687\n",
      "2   CHROME OS      4          85  0.047059\n",
      "3         IOS    796      253736  0.003137\n",
      "4      IPADOS      5         789  0.006337\n",
      "5       LINUX      3        3415  0.000878\n",
      "6        OS X      4         690  0.005797\n",
      "7     WINDOWS      3       10189  0.000294\n",
      "8  WINDOWS 10     77        2665  0.028893\n"
     ]
    }
   ],
   "source": [
    "#To find the CTR based on 'device_os'\n",
    "data['device_os'] = data['device_os'].str.upper()\n",
    "ctr_data3 = data.groupby('device_os').agg({'click': 'sum', 'impression': 'sum'}).reset_index()\n",
    "ctr_data3['CTR'] = ctr_data3['click'] / ctr_data3['impression']\n",
    "filtered_ctr_data3 = ctr_data3[~ctr_data3['CTR'].isna() & np.isfinite(ctr_data3['CTR']) & (ctr_data3['CTR'] > 0)]\n",
    "filtered_ctr_data3.index = np.arange(1, len(filtered_ctr_data3)+1)\n",
    "print(filtered_ctr_data3[['device_os','click', 'impression','CTR']])"
   ]
  },
  {
   "cell_type": "code",
   "execution_count": 116,
   "id": "37591e42",
   "metadata": {
    "collapsed": true
   },
   "outputs": [
    {
     "name": "stdout",
     "output_type": "stream",
     "text": [
      "    pincode       CTR\n",
      "1    284001  1.166667\n",
      "2    244231  1.000000\n",
      "3    610103  1.000000\n",
      "4    673574  1.000000\n",
      "5    752069  1.000000\n",
      "6    781347  1.000000\n",
      "7    811103  1.000000\n",
      "8    151205  0.900000\n",
      "9    134005  0.500000\n",
      "10   321609  0.500000\n"
     ]
    }
   ],
   "source": [
    "#To find the CTR based on 'pincode'\n",
    "ctr_data4 = data.groupby('pincode').agg({'click': 'sum', 'impression': 'sum'}).reset_index()\n",
    "ctr_data4['CTR'] = ctr_data4['click'] / ctr_data4['impression']\n",
    "filtered_ctr_data4 = ctr_data4[~ctr_data4['CTR'].isna() & np.isfinite(ctr_data4['CTR']) & (ctr_data4['CTR'] > 0)]\n",
    "top_10_rows4 = filtered_ctr_data4.nlargest(10, 'CTR')\n",
    "top_10_rows4.reset_index(drop=True, inplace=True) #optional\n",
    "top_10_rows4.index = np.arange(1, len(top_10_rows1) + 1)\n",
    "print(top_10_rows4[['pincode', 'CTR']])"
   ]
  },
  {
   "cell_type": "code",
   "execution_count": 107,
   "id": "d9a7c44a",
   "metadata": {},
   "outputs": [],
   "source": [
    "#To display maximum 12122 rows \n",
    "pd.set_option('display.max_rows', 2708)"
   ]
  },
  {
   "cell_type": "code",
   "execution_count": 24,
   "id": "497ccffe",
   "metadata": {},
   "outputs": [],
   "source": [
    "#CTR Using Two Attributes"
   ]
  },
  {
   "cell_type": "code",
   "execution_count": 27,
   "id": "048196eb",
   "metadata": {
    "collapsed": true
   },
   "outputs": [
    {
     "data": {
      "text/html": [
       "<div>\n",
       "<style scoped>\n",
       "    .dataframe tbody tr th:only-of-type {\n",
       "        vertical-align: middle;\n",
       "    }\n",
       "\n",
       "    .dataframe tbody tr th {\n",
       "        vertical-align: top;\n",
       "    }\n",
       "\n",
       "    .dataframe thead th {\n",
       "        text-align: right;\n",
       "    }\n",
       "</style>\n",
       "<table border=\"1\" class=\"dataframe\">\n",
       "  <thead>\n",
       "    <tr style=\"text-align: right;\">\n",
       "      <th></th>\n",
       "      <th>id</th>\n",
       "      <th>count</th>\n",
       "      <th>line_item_id</th>\n",
       "      <th>date</th>\n",
       "      <th>ad_type</th>\n",
       "      <th>device_os</th>\n",
       "      <th>device_type</th>\n",
       "      <th>feed</th>\n",
       "      <th>pincode</th>\n",
       "      <th>impression</th>\n",
       "      <th>start</th>\n",
       "      <th>first_quartile</th>\n",
       "      <th>mid_point</th>\n",
       "      <th>third_quartile</th>\n",
       "      <th>complete</th>\n",
       "      <th>creative_view</th>\n",
       "      <th>click</th>\n",
       "      <th>created_at</th>\n",
       "      <th>start_datetime</th>\n",
       "      <th>end_datetime</th>\n",
       "      <th>server_name</th>\n",
       "      <th>ssp</th>\n",
       "      <th>app_id</th>\n",
       "      <th>country</th>\n",
       "      <th>deal_id</th>\n",
       "    </tr>\n",
       "  </thead>\n",
       "  <tbody>\n",
       "    <tr>\n",
       "      <th>0</th>\n",
       "      <td>118700032</td>\n",
       "      <td>7</td>\n",
       "      <td>AbErnxVJawq4WtvBijUU5q</td>\n",
       "      <td>2023-09-07</td>\n",
       "      <td>audio</td>\n",
       "      <td>iOs</td>\n",
       "      <td>1.0</td>\n",
       "      <td>1.0</td>\n",
       "      <td>131001.0</td>\n",
       "      <td>1</td>\n",
       "      <td>1</td>\n",
       "      <td>1</td>\n",
       "      <td>1</td>\n",
       "      <td>1</td>\n",
       "      <td>1</td>\n",
       "      <td>1</td>\n",
       "      <td>0</td>\n",
       "      <td>2023-09-07 01:36:49.651681+00</td>\n",
       "      <td>2023-09-07 00:30:00+00</td>\n",
       "      <td>2023-09-07 01:29:59+00</td>\n",
       "      <td>track</td>\n",
       "      <td>Adswizz</td>\n",
       "      <td>624a98e7949e457302909674</td>\n",
       "      <td>in</td>\n",
       "      <td>2919.0</td>\n",
       "    </tr>\n",
       "    <tr>\n",
       "      <th>1</th>\n",
       "      <td>118700033</td>\n",
       "      <td>7</td>\n",
       "      <td>AbErnxVJawq4WtvBijUU5q</td>\n",
       "      <td>2023-09-07</td>\n",
       "      <td>audio</td>\n",
       "      <td>iOs</td>\n",
       "      <td>1.0</td>\n",
       "      <td>1.0</td>\n",
       "      <td>131101.0</td>\n",
       "      <td>1</td>\n",
       "      <td>1</td>\n",
       "      <td>1</td>\n",
       "      <td>1</td>\n",
       "      <td>1</td>\n",
       "      <td>1</td>\n",
       "      <td>1</td>\n",
       "      <td>0</td>\n",
       "      <td>2023-09-07 01:36:49.651681+00</td>\n",
       "      <td>2023-09-07 00:30:00+00</td>\n",
       "      <td>2023-09-07 01:29:59+00</td>\n",
       "      <td>track</td>\n",
       "      <td>Adswizz</td>\n",
       "      <td>624a98e7949e457302909674</td>\n",
       "      <td>in</td>\n",
       "      <td>2919.0</td>\n",
       "    </tr>\n",
       "    <tr>\n",
       "      <th>2</th>\n",
       "      <td>118699513</td>\n",
       "      <td>49</td>\n",
       "      <td>4QvZGDp9sYb8viiQWCsFvN</td>\n",
       "      <td>2023-09-07</td>\n",
       "      <td>video</td>\n",
       "      <td>Android</td>\n",
       "      <td>1.0</td>\n",
       "      <td>NaN</td>\n",
       "      <td>600046.0</td>\n",
       "      <td>7</td>\n",
       "      <td>7</td>\n",
       "      <td>7</td>\n",
       "      <td>6</td>\n",
       "      <td>6</td>\n",
       "      <td>6</td>\n",
       "      <td>7</td>\n",
       "      <td>0</td>\n",
       "      <td>2023-09-07 01:36:49.651681+00</td>\n",
       "      <td>2023-09-07 00:30:00+00</td>\n",
       "      <td>2023-09-07 01:29:59+00</td>\n",
       "      <td>track</td>\n",
       "      <td>Rubicon</td>\n",
       "      <td>5b2210af504f3097e73e0d8b</td>\n",
       "      <td>IND</td>\n",
       "      <td>2947.0</td>\n",
       "    </tr>\n",
       "    <tr>\n",
       "      <th>3</th>\n",
       "      <td>118699153</td>\n",
       "      <td>1</td>\n",
       "      <td>4QvZGDp9sYb8viiQWCsFvN</td>\n",
       "      <td>2023-09-07</td>\n",
       "      <td>video</td>\n",
       "      <td>Android</td>\n",
       "      <td>1.0</td>\n",
       "      <td>NaN</td>\n",
       "      <td>110016.0</td>\n",
       "      <td>0</td>\n",
       "      <td>0</td>\n",
       "      <td>0</td>\n",
       "      <td>0</td>\n",
       "      <td>0</td>\n",
       "      <td>0</td>\n",
       "      <td>0</td>\n",
       "      <td>0</td>\n",
       "      <td>2023-09-07 01:36:49.651681+00</td>\n",
       "      <td>2023-09-07 00:30:00+00</td>\n",
       "      <td>2023-09-07 01:29:59+00</td>\n",
       "      <td>track</td>\n",
       "      <td>Rubicon</td>\n",
       "      <td>5d3f052e979a1c2391016c04</td>\n",
       "      <td>IND</td>\n",
       "      <td>2972.0</td>\n",
       "    </tr>\n",
       "    <tr>\n",
       "      <th>4</th>\n",
       "      <td>118699154</td>\n",
       "      <td>158</td>\n",
       "      <td>4QvZGDp9sYb8viiQWCsFvN</td>\n",
       "      <td>2023-09-07</td>\n",
       "      <td>video</td>\n",
       "      <td>Android</td>\n",
       "      <td>1.0</td>\n",
       "      <td>NaN</td>\n",
       "      <td>110017.0</td>\n",
       "      <td>22</td>\n",
       "      <td>22</td>\n",
       "      <td>22</td>\n",
       "      <td>19</td>\n",
       "      <td>19</td>\n",
       "      <td>19</td>\n",
       "      <td>22</td>\n",
       "      <td>0</td>\n",
       "      <td>2023-09-07 01:36:49.651681+00</td>\n",
       "      <td>2023-09-07 00:30:00+00</td>\n",
       "      <td>2023-09-07 01:29:59+00</td>\n",
       "      <td>track</td>\n",
       "      <td>Rubicon</td>\n",
       "      <td>5b2210af504f3097e73e0d8b</td>\n",
       "      <td>IND</td>\n",
       "      <td>2947.0</td>\n",
       "    </tr>\n",
       "    <tr>\n",
       "      <th>...</th>\n",
       "      <td>...</td>\n",
       "      <td>...</td>\n",
       "      <td>...</td>\n",
       "      <td>...</td>\n",
       "      <td>...</td>\n",
       "      <td>...</td>\n",
       "      <td>...</td>\n",
       "      <td>...</td>\n",
       "      <td>...</td>\n",
       "      <td>...</td>\n",
       "      <td>...</td>\n",
       "      <td>...</td>\n",
       "      <td>...</td>\n",
       "      <td>...</td>\n",
       "      <td>...</td>\n",
       "      <td>...</td>\n",
       "      <td>...</td>\n",
       "      <td>...</td>\n",
       "      <td>...</td>\n",
       "      <td>...</td>\n",
       "      <td>...</td>\n",
       "      <td>...</td>\n",
       "      <td>...</td>\n",
       "      <td>...</td>\n",
       "      <td>...</td>\n",
       "    </tr>\n",
       "    <tr>\n",
       "      <th>244120</th>\n",
       "      <td>118942198</td>\n",
       "      <td>8</td>\n",
       "      <td>fHawSL2kkB8KMZdoTZHT7B</td>\n",
       "      <td>2023-09-08</td>\n",
       "      <td>audio</td>\n",
       "      <td>iOS</td>\n",
       "      <td>1.0</td>\n",
       "      <td>NaN</td>\n",
       "      <td>600063.0</td>\n",
       "      <td>1</td>\n",
       "      <td>1</td>\n",
       "      <td>1</td>\n",
       "      <td>1</td>\n",
       "      <td>1</td>\n",
       "      <td>1</td>\n",
       "      <td>1</td>\n",
       "      <td>0</td>\n",
       "      <td>2023-09-08 00:36:53.817687+00</td>\n",
       "      <td>2023-09-07 23:30:00+00</td>\n",
       "      <td>2023-09-08 00:29:59+00</td>\n",
       "      <td>track</td>\n",
       "      <td>Rubicon</td>\n",
       "      <td>5b2210af504f3097e73e0d8b</td>\n",
       "      <td>IND</td>\n",
       "      <td>2929.0</td>\n",
       "    </tr>\n",
       "    <tr>\n",
       "      <th>244121</th>\n",
       "      <td>118942199</td>\n",
       "      <td>32</td>\n",
       "      <td>fHawSL2kkB8KMZdoTZHT7B</td>\n",
       "      <td>2023-09-08</td>\n",
       "      <td>audio</td>\n",
       "      <td>iOS</td>\n",
       "      <td>1.0</td>\n",
       "      <td>NaN</td>\n",
       "      <td>600064.0</td>\n",
       "      <td>4</td>\n",
       "      <td>4</td>\n",
       "      <td>4</td>\n",
       "      <td>4</td>\n",
       "      <td>4</td>\n",
       "      <td>4</td>\n",
       "      <td>4</td>\n",
       "      <td>0</td>\n",
       "      <td>2023-09-08 00:36:53.817687+00</td>\n",
       "      <td>2023-09-07 23:30:00+00</td>\n",
       "      <td>2023-09-08 00:29:59+00</td>\n",
       "      <td>track</td>\n",
       "      <td>Rubicon</td>\n",
       "      <td>5b2210af504f3097e73e0d8b</td>\n",
       "      <td>IND</td>\n",
       "      <td>2929.0</td>\n",
       "    </tr>\n",
       "    <tr>\n",
       "      <th>244122</th>\n",
       "      <td>118942200</td>\n",
       "      <td>8</td>\n",
       "      <td>fHawSL2kkB8KMZdoTZHT7B</td>\n",
       "      <td>2023-09-08</td>\n",
       "      <td>audio</td>\n",
       "      <td>iOS</td>\n",
       "      <td>1.0</td>\n",
       "      <td>NaN</td>\n",
       "      <td>600066.0</td>\n",
       "      <td>1</td>\n",
       "      <td>1</td>\n",
       "      <td>1</td>\n",
       "      <td>1</td>\n",
       "      <td>1</td>\n",
       "      <td>1</td>\n",
       "      <td>1</td>\n",
       "      <td>0</td>\n",
       "      <td>2023-09-08 00:36:53.817687+00</td>\n",
       "      <td>2023-09-07 23:30:00+00</td>\n",
       "      <td>2023-09-08 00:29:59+00</td>\n",
       "      <td>track</td>\n",
       "      <td>Rubicon</td>\n",
       "      <td>5b2210af504f3097e73e0d8b</td>\n",
       "      <td>IND</td>\n",
       "      <td>2929.0</td>\n",
       "    </tr>\n",
       "    <tr>\n",
       "      <th>244123</th>\n",
       "      <td>118942201</td>\n",
       "      <td>8</td>\n",
       "      <td>fHawSL2kkB8KMZdoTZHT7B</td>\n",
       "      <td>2023-09-08</td>\n",
       "      <td>audio</td>\n",
       "      <td>iOS</td>\n",
       "      <td>1.0</td>\n",
       "      <td>NaN</td>\n",
       "      <td>600067.0</td>\n",
       "      <td>1</td>\n",
       "      <td>1</td>\n",
       "      <td>1</td>\n",
       "      <td>1</td>\n",
       "      <td>1</td>\n",
       "      <td>1</td>\n",
       "      <td>1</td>\n",
       "      <td>0</td>\n",
       "      <td>2023-09-08 00:36:53.817687+00</td>\n",
       "      <td>2023-09-07 23:30:00+00</td>\n",
       "      <td>2023-09-08 00:29:59+00</td>\n",
       "      <td>track</td>\n",
       "      <td>Rubicon</td>\n",
       "      <td>5b2210af504f3097e73e0d8b</td>\n",
       "      <td>IND</td>\n",
       "      <td>2929.0</td>\n",
       "    </tr>\n",
       "    <tr>\n",
       "      <th>244124</th>\n",
       "      <td>118794804</td>\n",
       "      <td>1</td>\n",
       "      <td>NaN</td>\n",
       "      <td>2023-09-07</td>\n",
       "      <td>NaN</td>\n",
       "      <td>NaN</td>\n",
       "      <td>NaN</td>\n",
       "      <td>NaN</td>\n",
       "      <td>NaN</td>\n",
       "      <td>0</td>\n",
       "      <td>0</td>\n",
       "      <td>0</td>\n",
       "      <td>0</td>\n",
       "      <td>0</td>\n",
       "      <td>0</td>\n",
       "      <td>0</td>\n",
       "      <td>0</td>\n",
       "      <td>2023-09-07 11:36:44.326613+00</td>\n",
       "      <td>2023-09-07 10:30:00+00</td>\n",
       "      <td>2023-09-07 11:29:59+00</td>\n",
       "      <td>track</td>\n",
       "      <td>NaN</td>\n",
       "      <td>NaN</td>\n",
       "      <td>NaN</td>\n",
       "      <td>NaN</td>\n",
       "    </tr>\n",
       "  </tbody>\n",
       "</table>\n",
       "<p>244125 rows × 25 columns</p>\n",
       "</div>"
      ],
      "text/plain": [
       "               id  count            line_item_id        date ad_type  \\\n",
       "0       118700032      7  AbErnxVJawq4WtvBijUU5q  2023-09-07   audio   \n",
       "1       118700033      7  AbErnxVJawq4WtvBijUU5q  2023-09-07   audio   \n",
       "2       118699513     49  4QvZGDp9sYb8viiQWCsFvN  2023-09-07   video   \n",
       "3       118699153      1  4QvZGDp9sYb8viiQWCsFvN  2023-09-07   video   \n",
       "4       118699154    158  4QvZGDp9sYb8viiQWCsFvN  2023-09-07   video   \n",
       "...           ...    ...                     ...         ...     ...   \n",
       "244120  118942198      8  fHawSL2kkB8KMZdoTZHT7B  2023-09-08   audio   \n",
       "244121  118942199     32  fHawSL2kkB8KMZdoTZHT7B  2023-09-08   audio   \n",
       "244122  118942200      8  fHawSL2kkB8KMZdoTZHT7B  2023-09-08   audio   \n",
       "244123  118942201      8  fHawSL2kkB8KMZdoTZHT7B  2023-09-08   audio   \n",
       "244124  118794804      1                     NaN  2023-09-07     NaN   \n",
       "\n",
       "       device_os  device_type  feed   pincode  impression  start  \\\n",
       "0            iOs          1.0   1.0  131001.0           1      1   \n",
       "1            iOs          1.0   1.0  131101.0           1      1   \n",
       "2        Android          1.0   NaN  600046.0           7      7   \n",
       "3        Android          1.0   NaN  110016.0           0      0   \n",
       "4        Android          1.0   NaN  110017.0          22     22   \n",
       "...          ...          ...   ...       ...         ...    ...   \n",
       "244120       iOS          1.0   NaN  600063.0           1      1   \n",
       "244121       iOS          1.0   NaN  600064.0           4      4   \n",
       "244122       iOS          1.0   NaN  600066.0           1      1   \n",
       "244123       iOS          1.0   NaN  600067.0           1      1   \n",
       "244124       NaN          NaN   NaN       NaN           0      0   \n",
       "\n",
       "        first_quartile  mid_point  third_quartile  complete  creative_view  \\\n",
       "0                    1          1               1         1              1   \n",
       "1                    1          1               1         1              1   \n",
       "2                    7          6               6         6              7   \n",
       "3                    0          0               0         0              0   \n",
       "4                   22         19              19        19             22   \n",
       "...                ...        ...             ...       ...            ...   \n",
       "244120               1          1               1         1              1   \n",
       "244121               4          4               4         4              4   \n",
       "244122               1          1               1         1              1   \n",
       "244123               1          1               1         1              1   \n",
       "244124               0          0               0         0              0   \n",
       "\n",
       "        click                     created_at          start_datetime  \\\n",
       "0           0  2023-09-07 01:36:49.651681+00  2023-09-07 00:30:00+00   \n",
       "1           0  2023-09-07 01:36:49.651681+00  2023-09-07 00:30:00+00   \n",
       "2           0  2023-09-07 01:36:49.651681+00  2023-09-07 00:30:00+00   \n",
       "3           0  2023-09-07 01:36:49.651681+00  2023-09-07 00:30:00+00   \n",
       "4           0  2023-09-07 01:36:49.651681+00  2023-09-07 00:30:00+00   \n",
       "...       ...                            ...                     ...   \n",
       "244120      0  2023-09-08 00:36:53.817687+00  2023-09-07 23:30:00+00   \n",
       "244121      0  2023-09-08 00:36:53.817687+00  2023-09-07 23:30:00+00   \n",
       "244122      0  2023-09-08 00:36:53.817687+00  2023-09-07 23:30:00+00   \n",
       "244123      0  2023-09-08 00:36:53.817687+00  2023-09-07 23:30:00+00   \n",
       "244124      0  2023-09-07 11:36:44.326613+00  2023-09-07 10:30:00+00   \n",
       "\n",
       "                  end_datetime server_name      ssp                    app_id  \\\n",
       "0       2023-09-07 01:29:59+00       track  Adswizz  624a98e7949e457302909674   \n",
       "1       2023-09-07 01:29:59+00       track  Adswizz  624a98e7949e457302909674   \n",
       "2       2023-09-07 01:29:59+00       track  Rubicon  5b2210af504f3097e73e0d8b   \n",
       "3       2023-09-07 01:29:59+00       track  Rubicon  5d3f052e979a1c2391016c04   \n",
       "4       2023-09-07 01:29:59+00       track  Rubicon  5b2210af504f3097e73e0d8b   \n",
       "...                        ...         ...      ...                       ...   \n",
       "244120  2023-09-08 00:29:59+00       track  Rubicon  5b2210af504f3097e73e0d8b   \n",
       "244121  2023-09-08 00:29:59+00       track  Rubicon  5b2210af504f3097e73e0d8b   \n",
       "244122  2023-09-08 00:29:59+00       track  Rubicon  5b2210af504f3097e73e0d8b   \n",
       "244123  2023-09-08 00:29:59+00       track  Rubicon  5b2210af504f3097e73e0d8b   \n",
       "244124  2023-09-07 11:29:59+00       track      NaN                       NaN   \n",
       "\n",
       "       country  deal_id  \n",
       "0           in   2919.0  \n",
       "1           in   2919.0  \n",
       "2          IND   2947.0  \n",
       "3          IND   2972.0  \n",
       "4          IND   2947.0  \n",
       "...        ...      ...  \n",
       "244120     IND   2929.0  \n",
       "244121     IND   2929.0  \n",
       "244122     IND   2929.0  \n",
       "244123     IND   2929.0  \n",
       "244124     NaN      NaN  \n",
       "\n",
       "[244125 rows x 25 columns]"
      ]
     },
     "execution_count": 27,
     "metadata": {},
     "output_type": "execute_result"
    }
   ],
   "source": [
    "data"
   ]
  },
  {
   "cell_type": "code",
   "execution_count": 26,
   "id": "7627541c",
   "metadata": {},
   "outputs": [],
   "source": [
    "#To display maximum 25 rows \n",
    "pd.set_option('display.max_columns',25)"
   ]
  },
  {
   "cell_type": "code",
   "execution_count": 119,
   "id": "2517512c",
   "metadata": {
    "collapsed": true
   },
   "outputs": [
    {
     "name": "stdout",
     "output_type": "stream",
     "text": [
      "     device_os  ad_type  click  impression       CTR\n",
      "1      ANDROID    AUDIO  23252     2091066  0.011120\n",
      "2      ANDROID  DISPLAY     62       13635  0.004547\n",
      "3      ANDROID    VIDEO   6684      462033  0.014466\n",
      "4    CHROME OS    VIDEO      4          84  0.047619\n",
      "5          IOS    AUDIO    786      251400  0.003126\n",
      "6          IOS  DISPLAY      2        2149  0.000931\n",
      "7          IOS    VIDEO      8         187  0.042781\n",
      "8       IPADOS    AUDIO      1         736  0.001359\n",
      "9       IPADOS    VIDEO      4          53  0.075472\n",
      "10       LINUX    VIDEO      3         134  0.022388\n",
      "11        OS X    VIDEO      4         399  0.010025\n",
      "12     WINDOWS    AUDIO      3       10189  0.000294\n",
      "13  WINDOWS 10    VIDEO     77        2665  0.028893\n"
     ]
    }
   ],
   "source": [
    "#To find the CTR based on 'device_os' for each 'ad_type'\n",
    "data['device_os'] = data['device_os'].str.upper()\n",
    "data['ad_type'] = data['ad_type'].str.upper()\n",
    "CTR_data1 = data.groupby(['device_os', 'ad_type']).agg({'click': 'sum', 'impression': 'sum'}).reset_index()\n",
    "CTR_data1['CTR'] = CTR_data1['click'] / CTR_data1['impression']\n",
    "filtered_CTR_data1 = CTR_data1[~CTR_data1['CTR'].isna() & np.isfinite(CTR_data1['CTR']) & CTR_data1['CTR']>0]\n",
    "filtered_CTR_data1.index = np.arange(1, len(filtered_CTR_data1)+1)\n",
    "print(filtered_CTR_data1[['device_os','ad_type','click','impression','CTR']])"
   ]
  },
  {
   "cell_type": "code",
   "execution_count": 73,
   "id": "11e22d9d",
   "metadata": {
    "collapsed": true
   },
   "outputs": [
    {
     "name": "stdout",
     "output_type": "stream",
     "text": [
      "    ad_type   device_os  click  impression       CTR\n",
      "1     AUDIO     ANDROID  23252     2091066  0.011120\n",
      "2     AUDIO         IOS    786      251400  0.003126\n",
      "3     AUDIO      IPADOS      1         736  0.001359\n",
      "4     AUDIO     WINDOWS      3       10189  0.000294\n",
      "5   DISPLAY     ANDROID     62       13635  0.004547\n",
      "6   DISPLAY         IOS      2        2149  0.000931\n",
      "7     VIDEO     ANDROID   6684      462033  0.014466\n",
      "8     VIDEO   CHROME OS      4          84  0.047619\n",
      "9     VIDEO         IOS      8         187  0.042781\n",
      "10    VIDEO      IPADOS      4          53  0.075472\n",
      "11    VIDEO       LINUX      3         134  0.022388\n",
      "12    VIDEO        OS X      4         399  0.010025\n",
      "13    VIDEO  WINDOWS 10     77        2665  0.028893\n"
     ]
    }
   ],
   "source": [
    "#To find the CTR based on 'ad_type' for each 'device_os'\n",
    "data['device_os'] = data['device_os'].str.upper()\n",
    "data['ad_type'] = data['ad_type'].str.upper()\n",
    "CTR_data1X = data.groupby(['ad_type', 'device_os']).agg({'click': 'sum', 'impression': 'sum'}).reset_index()\n",
    "CTR_data1X['CTR'] = CTR_data1X['click'] / CTR_data1X['impression']\n",
    "filtered_CTR_data1X = CTR_data1X[~CTR_data1X['CTR'].isna() & np.isfinite(CTR_data1X['CTR']) & CTR_data1X['CTR']>0]\n",
    "filtered_CTR_data1X.index = np.arange(1, len(filtered_CTR_data1X)+1)\n",
    "print(filtered_CTR_data1X[['ad_type', 'device_os','click','impression','CTR']])"
   ]
  },
  {
   "cell_type": "code",
   "execution_count": 74,
   "id": "233c1ec2",
   "metadata": {},
   "outputs": [],
   "source": [
    "#To convert the data type of 'pincode' from float64 to Int64\n",
    "data['pincode']=data['pincode'].astype('Int64')"
   ]
  },
  {
   "cell_type": "code",
   "execution_count": 78,
   "id": "a71610ce",
   "metadata": {
    "collapsed": true
   },
   "outputs": [
    {
     "name": "stdout",
     "output_type": "stream",
     "text": [
      "    pincode ad_type  click  impression       CTR\n",
      "1    284001   AUDIO      7           6  1.166667\n",
      "2    244231   AUDIO      1           1  1.000000\n",
      "3    610103   AUDIO      2           2  1.000000\n",
      "4    673574   AUDIO      2           2  1.000000\n",
      "5    752069   AUDIO      1           1  1.000000\n",
      "6    781347   AUDIO      1           1  1.000000\n",
      "7    811103   AUDIO      1           1  1.000000\n",
      "8    151205   AUDIO      9          10  0.900000\n",
      "9    134005   AUDIO      1           2  0.500000\n",
      "10   321609   AUDIO      1           2  0.500000\n"
     ]
    }
   ],
   "source": [
    "#To find the CTR based on 'pincode' for each 'ad_type'\n",
    "CTR_data2 = data.groupby(['pincode', 'ad_type']).agg({'click': 'sum', 'impression': 'sum'}).reset_index()\n",
    "CTR_data2['CTR'] = CTR_data2['click'] / CTR_data2['impression']\n",
    "filtered_CTR_data2 = CTR_data2[~CTR_data2['CTR'].isna() & np.isfinite(CTR_data2['CTR']) & CTR_data2['CTR']>0]\n",
    "TOP_10_rows2 = filtered_CTR_data2.nlargest(10, 'CTR')\n",
    "TOP_10_rows2.index = np.arange(1, len(TOP_10_rows2)+1)\n",
    "print(TOP_10_rows2[['pincode', 'ad_type','click','impression','CTR']])"
   ]
  },
  {
   "cell_type": "code",
   "execution_count": 36,
   "id": "965a1329",
   "metadata": {},
   "outputs": [],
   "source": [
    "#To display maximum 13137 rows \n",
    "pd.set_option('display.max_rows', 13137)"
   ]
  },
  {
   "cell_type": "code",
   "execution_count": 80,
   "id": "1e35bf9d",
   "metadata": {
    "collapsed": true
   },
   "outputs": [
    {
     "name": "stdout",
     "output_type": "stream",
     "text": [
      "    pincode  device_os  click  impression       CTR\n",
      "1    284001    ANDROID      7           6  1.166667\n",
      "2    151205    ANDROID      9           8  1.125000\n",
      "3    143530        IOS      1           1  1.000000\n",
      "4    244231    ANDROID      1           1  1.000000\n",
      "5    414701    ANDROID      1           1  1.000000\n",
      "6    603112  CHROME OS      2           2  1.000000\n",
      "7    609304    ANDROID      1           1  1.000000\n",
      "8    610103    ANDROID      2           2  1.000000\n",
      "9    752069    ANDROID      1           1  1.000000\n",
      "10   781347    ANDROID      1           1  1.000000\n"
     ]
    }
   ],
   "source": [
    "#To find the CTR based on 'pincode' for each 'device_os'\n",
    "CTR_data3 = data.groupby(['pincode', 'device_os']).agg({'click': 'sum', 'impression': 'sum'}).reset_index()\n",
    "CTR_data3['CTR'] = CTR_data3['click'] / CTR_data3['impression']\n",
    "filtered_CTR_data3 = CTR_data3[~CTR_data3['CTR'].isna() & np.isfinite(CTR_data3['CTR']) & CTR_data3['CTR']>0]\n",
    "TOP_10_rows3 = filtered_CTR_data3.nlargest(10, 'CTR')\n",
    "TOP_10_rows3.index = np.arange(1, len(TOP_10_rows3)+1)\n",
    "print(TOP_10_rows3[['pincode', 'device_os','click','impression','CTR']])"
   ]
  },
  {
   "cell_type": "code",
   "execution_count": 39,
   "id": "98aad657",
   "metadata": {},
   "outputs": [],
   "source": [
    "#To display maximum 22772 rows \n",
    "pd.set_option('display.max_rows', 22772)"
   ]
  },
  {
   "cell_type": "code",
   "execution_count": 125,
   "id": "cfb360ea",
   "metadata": {
    "collapsed": true
   },
   "outputs": [
    {
     "name": "stdout",
     "output_type": "stream",
     "text": [
      "          date            line_item_id  click  impression       CTR\n",
      "1   2023-09-07  D6q5q33Jd7858iVvr6gR69      3           8  0.375000\n",
      "2   2023-09-07  A9DEaamKoTJPMPpRREFYGY      1           4  0.250000\n",
      "3   2023-09-07  CyUMczn45ftS4HJUTRovck      2          11  0.181818\n",
      "4   2023-09-07  AfnMmCDaWjNbL75fQTTWKx      1          10  0.100000\n",
      "5   2023-09-07  dsCAWaw3Ekm5oNftKpgUrk      1          10  0.100000\n",
      "6   2023-09-07  5yQxdpTD8MDvhSSabVo8Jr      9         148  0.060811\n",
      "7   2023-09-08  J8StPzRXXtsyVfqQ3fVCM9     35        1470  0.023810\n",
      "8   2023-09-07  J8StPzRXXtsyVfqQ3fVCM9    320       13648  0.023447\n",
      "9   2023-09-07  TPd7vqyKcGikPjgvgRa9es  13525      687021  0.019686\n",
      "10  2023-09-08  ViTEXZojgfeZfy4jgepPC5     91        4632  0.019646\n"
     ]
    }
   ],
   "source": [
    "#To find the CTR based on 'date' for each 'line_item_id'\n",
    "CTR_data4 = data.groupby(['date', 'line_item_id']).agg({'click': 'sum', 'impression': 'sum'}).reset_index()\n",
    "CTR_data4['CTR'] = CTR_data4['click'] / CTR_data4['impression']\n",
    "filtered_CTR_data4 = CTR_data4[~CTR_data4['CTR'].isna() & np.isfinite(CTR_data4['CTR']) & CTR_data4['CTR']>0]\n",
    "TOP_10_rows4 = filtered_CTR_data4.nlargest(10, 'CTR')\n",
    "TOP_10_rows4.index = np.arange(1, len(TOP_10_rows4)+1)\n",
    "print(TOP_10_rows4[['date', 'line_item_id','click','impression','CTR']])"
   ]
  },
  {
   "cell_type": "code",
   "execution_count": 124,
   "id": "1886b387",
   "metadata": {
    "collapsed": true
   },
   "outputs": [
    {
     "name": "stdout",
     "output_type": "stream",
     "text": [
      "   ad_type            line_item_id  click  impression       CTR\n",
      "1    VIDEO  J8StPzRXXtsyVfqQ3fVCM9    355       15118  0.023482\n",
      "2    VIDEO  ViTEXZojgfeZfy4jgepPC5     99        5502  0.017993\n",
      "3    VIDEO  R2yzV2SifRo3fdL3TeZRSx   1688       94885  0.017790\n",
      "4    AUDIO  TPd7vqyKcGikPjgvgRa9es  14770      874696  0.016886\n",
      "5    VIDEO  GjqbAfapKQuZqrvQQHaRNG   1537       94411  0.016280\n",
      "6    VIDEO  4QvZGDp9sYb8viiQWCsFvN   1452       90719  0.016005\n",
      "7    AUDIO  T2hEGNNfSraN6fsGbnxX6p    291       22638  0.012854\n",
      "8    AUDIO  GvjBJA25A7qfpNTDHZgup9    277       24700  0.011215\n",
      "9    VIDEO  SG4iV8g3WK2xJFckbNgV4b    587       56075  0.010468\n",
      "10   VIDEO  j3GRhN7WJKpYjyXfSmYLHn    544       54440  0.009993\n"
     ]
    }
   ],
   "source": [
    "#To find the CTR based on 'ad_type' for each 'line_item_id'\n",
    "CTR_data5 = data.groupby(['ad_type', 'line_item_id']).agg({'click': 'sum', 'impression': 'sum'}).reset_index()\n",
    "CTR_data5['CTR'] = CTR_data5['click'] / CTR_data5['impression']\n",
    "filtered_CTR_data5 = CTR_data5[~CTR_data5['CTR'].isna() & np.isfinite(CTR_data5['CTR']) & CTR_data5['CTR']>0]\n",
    "TOP_10_rows5 = filtered_CTR_data5.nlargest(10, 'CTR')\n",
    "TOP_10_rows5.index = np.arange(1, len(TOP_10_rows5)+1)\n",
    "print(TOP_10_rows5[['ad_type', 'line_item_id','click','impression','CTR']])"
   ]
  },
  {
   "cell_type": "code",
   "execution_count": null,
   "id": "55f30bdd",
   "metadata": {},
   "outputs": [],
   "source": []
  }
 ],
 "metadata": {
  "kernelspec": {
   "display_name": "Python 3 (ipykernel)",
   "language": "python",
   "name": "python3"
  },
  "language_info": {
   "codemirror_mode": {
    "name": "ipython",
    "version": 3
   },
   "file_extension": ".py",
   "mimetype": "text/x-python",
   "name": "python",
   "nbconvert_exporter": "python",
   "pygments_lexer": "ipython3",
   "version": "3.11.5"
  }
 },
 "nbformat": 4,
 "nbformat_minor": 5
}
